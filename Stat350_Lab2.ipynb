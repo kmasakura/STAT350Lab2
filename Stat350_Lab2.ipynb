{
 "cells": [
  {
   "cell_type": "markdown",
   "metadata": {},
   "source": [
    "## STAT 350, Fall 2016\n",
    "\n",
    "### Lab 2: Due Friday, Oct 28\n",
    "\n",
    "You must complete this lab with one partner.  The partner for this lab should not be the same person you worked with on lab 1.  Both partners are expected to contribute equally to completing all parts of the\n",
    "assignment. You may also discuss the labs with other students in the class, but you may not share\n",
    "computer code with anyone other than your partner.\n",
    "\n",
    "In all parts of the lab you should use **simulation** to approximate distributions and probabilities.  While many of these problems have analytical solutions, you should not just be plugging numbers into formulas.  Rather, you should define a probability space of possible outcomes, define appropriate random variables, simulate many values of the random variables, and then use the simulated values to estimate the objects of interest.  Except for a few parts, you should use Symbulate commands exclusively. (See the Symbulate documentation for descriptions of the commands and examples.)\n",
    "\n",
    "**Note:** Follow the instructions [here](http://calpoly.edu/~dsun09/python.html) to reinstall Symbulate to ensure that you have the latest version.  (You do NOT need to reinstall Python/Anaconda/Jupyter.)"
   ]
  },
  {
   "cell_type": "code",
   "execution_count": 1,
   "metadata": {
    "collapsed": true
   },
   "outputs": [],
   "source": [
    "# remember to run these lines first\n",
    "from symbulate import *\n",
    "%matplotlib inline\n",
    "from IPython.core.interactiveshell import InteractiveShell\n",
    "InteractiveShell.ast_node_interactivity = \"all\""
   ]
  },
  {
   "cell_type": "markdown",
   "metadata": {},
   "source": [
    "# Micrometeors and the International Space Station\n",
    "\n",
    "Suppose that (harmless) micrometeors strike the International Space Station (ISS) at rate 1.5 per hour on average."
   ]
  },
  {
   "cell_type": "markdown",
   "metadata": {},
   "source": [
    "## Question 1\n",
    "\n",
    "In Question 1, you will investigate the distribution of stikes over time various different assumptions.\n",
    "\n",
    "### Model 1\n",
    "\n",
    "Suppose that the number of strikes over any period of time has a Poisson distribution.\n",
    "\n",
    "a. Simulate the distribution of the number of strikes that occur in the next 3 hours. (**Hint:** Based on the rate at which meteors strike the ISS, what must the mean of the Poisson distribution be?) Make a histogram of the distribution, and approximate the mean and the variance."
   ]
  },
  {
   "cell_type": "code",
   "execution_count": 2,
   "metadata": {
    "collapsed": false
   },
   "outputs": [
    {
     "data": {
      "text/plain": [
       "4.4988250000000001"
      ]
     },
     "execution_count": 2,
     "metadata": {},
     "output_type": "execute_result"
    },
    {
     "data": {
      "text/plain": [
       "4.514314619374999"
      ]
     },
     "execution_count": 2,
     "metadata": {},
     "output_type": "execute_result"
    },
    {
     "data": {
      "image/png": "[encoded data removed]",
      "text/plain": [
       "<matplotlib.figure.Figure at 0x109ab6ef0>"
      ]
     },
     "metadata": {},
     "output_type": "display_data"
    }
   ],
   "source": [
    "strikes = RV(Poisson(lam = 4.5)).sim(1000000)\n",
    "strikes.hist(type=\"line\")\n",
    "strikes.mean()\n",
    "strikes.var()"
   ]
  },
  {
   "cell_type": "markdown",
   "metadata": {},
   "source": [
    "b. Estimate the probability that there are at least 8 strikes in the next 3 hours."
   ]
  },
  {
   "cell_type": "code",
   "execution_count": 3,
   "metadata": {
    "collapsed": false
   },
   "outputs": [
    {
     "data": {
      "text/html": [
       "\n",
       "    <table>\n",
       "      <thead>\n",
       "        <th width=\"80%\">Outcome</th>\n",
       "        <th width=\"20%\">Value</th>\n",
       "      </thead>\n",
       "      <tbody>\n",
       "        <tr><td>False</td><td>0.913428</td></tr><tr><td>True</td><td>0.086572</td></tr><tr><td><b>Total</b></td><td><b>1.0</b></td></tr>\n",
       "      </tbody>\n",
       "    </table>\n",
       "    "
      ],
      "text/plain": [
       "{False: 0.913428, True: 0.086572}"
      ]
     },
     "execution_count": 3,
     "metadata": {},
     "output_type": "execute_result"
    }
   ],
   "source": [
    "strikes = RV(Poisson(lam = 4.5)).sim(1000000)\n",
    "def feight(x):\n",
    "    return x >= 8\n",
    "strikes.apply(feight).tabulate(relfreq = True)"
   ]
  },
  {
   "cell_type": "markdown",
   "metadata": {},
   "source": [
    "### Model 2\n",
    "\n",
    "Now suppose that in each 1 *minute* of time there is either 1 strike or no strikes.  (That is, we are assuming that there is no more than 1 strike in a minute).  Also suppose that minute-to-minute strikes occur independently of each other, and the probability that a strike occurs in any minute is 1.5/60.  (We have defined the probability this way so that the mean number of strikes in a minute is 1.5/60, consistent with the overall average rate at which strikes occur.)\n",
    "\n",
    "a. Simulate the distribution of the number of strikes that occur in the next 3 hours.  Make a histogram of the distribution, and approximate the mean and the variance."
   ]
  },
  {
   "cell_type": "code",
   "execution_count": 4,
   "metadata": {
    "collapsed": false
   },
   "outputs": [
    {
     "data": {
      "text/plain": [
       "4.5148299999999999"
      ]
     },
     "execution_count": 4,
     "metadata": {},
     "output_type": "execute_result"
    },
    {
     "data": {
      "text/plain": [
       "4.3728400710999988"
      ]
     },
     "execution_count": 4,
     "metadata": {},
     "output_type": "execute_result"
    },
    {
     "data": {
      "image/png": "[encoded data removed]",
      "text/plain": [
       "<matplotlib.figure.Figure at 0x102cebc18>"
      ]
     },
     "metadata": {},
     "output_type": "display_data"
    }
   ],
   "source": [
    "strikes = RV(BoxModel([1, 0], probs = [1.5/60, 58.5/60], size = 3*60)).sim(100000).apply(sum)\n",
    "strikes.hist(type=\"line\")\n",
    "strikes.mean()\n",
    "strikes.var()"
   ]
  },
  {
   "cell_type": "markdown",
   "metadata": {},
   "source": [
    "b. Estimate the probability that there are at least 8 strikes in the next 3 hours."
   ]
  },
  {
   "cell_type": "code",
   "execution_count": 5,
   "metadata": {
    "collapsed": false
   },
   "outputs": [
    {
     "data": {
      "text/html": [
       "\n",
       "    <table>\n",
       "      <thead>\n",
       "        <th width=\"80%\">Outcome</th>\n",
       "        <th width=\"20%\">Value</th>\n",
       "      </thead>\n",
       "      <tbody>\n",
       "        <tr><td>False</td><td>0.91639</td></tr><tr><td>True</td><td>0.08361</td></tr><tr><td><b>Total</b></td><td><b>1.0</b></td></tr>\n",
       "      </tbody>\n",
       "    </table>\n",
       "    "
      ],
      "text/plain": [
       "{False: 0.91639, True: 0.08361}"
      ]
     },
     "execution_count": 5,
     "metadata": {},
     "output_type": "execute_result"
    }
   ],
   "source": [
    "strikes = RV(BoxModel([1, 0], probs = [1.5/60, 58.5/60], size = 3*60)).sim(100000).apply(sum)\n",
    "def feight(x):\n",
    "    return x >= 8\n",
    "strikes.apply(feight).tabulate(relfreq = True)"
   ]
  },
  {
   "cell_type": "markdown",
   "metadata": {},
   "source": [
    "### Model 3\n",
    "\n",
    "Now suppose that the time elapsed between any two strikes has an Exponential distribution with mean 40 minutes, and suppose that times between strikes are independent.\n",
    "\n",
    "a. Simulate the distribution of the number of strikes that occur in the next 3 hours.  Make a histogram of the distribution, and approximate the mean and the variance.\n",
    "\n",
    "**Hint:** Simulate so many strikes that the total time easily exceeds 3 hours. How will you use these exponential random variables you just simulated to count how many strikes occurred in 3 hours? Write a function that counts up how many events occurred in 3 hours. You may want to try part (b) before attempting this part."
   ]
  },
  {
   "cell_type": "code",
   "execution_count": 6,
   "metadata": {
    "collapsed": false
   },
   "outputs": [
    {
     "data": {
      "text/plain": [
       "4.5317999999999996"
      ]
     },
     "execution_count": 6,
     "metadata": {},
     "output_type": "execute_result"
    },
    {
     "data": {
      "text/plain": [
       "4.5307887599999992"
      ]
     },
     "execution_count": 6,
     "metadata": {},
     "output_type": "execute_result"
    },
    {
     "data": {
      "image/png": "[encoded data removed]",
      "text/plain": [
       "<matplotlib.figure.Figure at 0x10c3de7f0>"
      ]
     },
     "metadata": {},
     "output_type": "display_data"
    }
   ],
   "source": [
    "def num_strikes_in_3_hours(x):\n",
    "    strikes = RV(Exponential(lam = 1/40)).sim(500)\n",
    "    time = 0\n",
    "    numstrikes = 0\n",
    "    for i in range(len(strikes)):\n",
    "        time += strikes[i]\n",
    "        if time >= 180:\n",
    "            return numstrikes\n",
    "        numstrikes += 1\n",
    "        \n",
    "model = Uniform(a = 0, b = 1)\n",
    "X = RV(model, num_strikes_in_3_hours).sim(10000)\n",
    "X.hist(type=\"line\")\n",
    "X.mean()\n",
    "X.var()"
   ]
  },
  {
   "cell_type": "markdown",
   "metadata": {},
   "source": [
    "b. Estimate the probability that there are at least 8 strikes in the next 3 hours.  \n",
    "\n",
    "**Hint:** Consider the time at which the 8th strike occurs."
   ]
  },
  {
   "cell_type": "code",
   "execution_count": 7,
   "metadata": {
    "collapsed": false
   },
   "outputs": [
    {
     "data": {
      "text/html": [
       "\n",
       "    <table>\n",
       "      <thead>\n",
       "        <th width=\"80%\">Outcome</th>\n",
       "        <th width=\"20%\">Value</th>\n",
       "      </thead>\n",
       "      <tbody>\n",
       "        <tr><td>False</td><td>0.9116</td></tr><tr><td>True</td><td>0.0884</td></tr><tr><td><b>Total</b></td><td><b>1.0</b></td></tr>\n",
       "      </tbody>\n",
       "    </table>\n",
       "    "
      ],
      "text/plain": [
       "{False: 0.9116, True: 0.0884}"
      ]
     },
     "execution_count": 7,
     "metadata": {},
     "output_type": "execute_result"
    }
   ],
   "source": [
    "def num_strikes_in_3_hours(x):\n",
    "    strikes = RV(Exponential(lam = 1/40)).sim(500)\n",
    "    time = 0\n",
    "    numstrikes = 0\n",
    "    for i in range(len(strikes)):\n",
    "        time += strikes[i]\n",
    "        if time >= 180:\n",
    "            return numstrikes\n",
    "        numstrikes += 1\n",
    "        \n",
    "model = Uniform(a = 0, b = 1)\n",
    "X = RV(model, num_strikes_in_3_hours).sim(10000)\n",
    "def feight(x):\n",
    "    return x >= 8\n",
    "X.apply(feight).tabulate(relfreq = True)"
   ]
  },
  {
   "cell_type": "markdown",
   "metadata": {},
   "source": [
    "### Conclusions\n",
    "\n",
    "Review your answers to the three models above.  In each model, we made what appeared to be different assumptions.  Does it seem that the distribution of the number of strikes is the same under each of these sets of assumptions?  Discuss briefly."
   ]
  },
  {
   "cell_type": "markdown",
   "metadata": {},
   "source": [
    "Through the three models, we observed simmilar distributions. They all have simmilar means, but interestingly, they have slightly different variances. These differences in variances can be explained with the models used. For example, in Model 2, I used a box model. This model creates an upper bound on the number of strikes that may occur over the 3 hours.  This eliminates the unlikely values that go above that upper bound that are not present in the Poisson or Exponential distributions, lowering the variance of the distribution."
   ]
  },
  {
   "cell_type": "markdown",
   "metadata": {},
   "source": [
    "## Question 2\n",
    "\n",
    "a. Suppose that there is exactly 1 strike in the next 2 hours.  Make a histogram of the (conditional) distribution of the time at which this 1 strike occurred in the 0 to 2 hour window, and find its mean and variance.  (Hint: simulate the times of the first two strikes and filter accordingly.)  What can you say about this distribution?"
   ]
  },
  {
   "cell_type": "code",
   "execution_count": 8,
   "metadata": {
    "collapsed": false
   },
   "outputs": [
    {
     "data": {
      "text/plain": [
       "33.829073567366549"
      ]
     },
     "execution_count": 8,
     "metadata": {},
     "output_type": "execute_result"
    },
    {
     "data": {
      "text/plain": [
       "800.18775351017268"
      ]
     },
     "execution_count": 8,
     "metadata": {},
     "output_type": "execute_result"
    },
    {
     "data": {
      "image/png": "[encoded data removed]",
      "text/plain": [
       "<matplotlib.figure.Figure at 0x1024ae278>"
      ]
     },
     "metadata": {},
     "output_type": "display_data"
    }
   ],
   "source": [
    "strike = Exponential(lam = 1/40)**2\n",
    "X = RV(strike, min)\n",
    "Y = RV(strike, max)\n",
    "strikes = (X & Y).sim(100000)\n",
    "def valid(x):\n",
    "    return x[0] <= 120 and x[1] > 120\n",
    "fstrike = strikes.filter(valid).component(0)\n",
    "fstrike.hist()\n",
    "fstrike.mean()\n",
    "fstrike.var()"
   ]
  },
  {
   "cell_type": "markdown",
   "metadata": {},
   "source": [
    "It has the general shape of an exponential distribution. Its mean and variance are lowered because of the restrictions placed upon the times at which the first and second strikes are allowed to happen."
   ]
  },
  {
   "cell_type": "markdown",
   "metadata": {
    "collapsed": true
   },
   "source": [
    "b. Count strikes starting now, and consider the time elapsed between now until the 8th strike occurs.  Make a histogram of the distribution of the elapsed time until the 8th strike, and find its mean and variance."
   ]
  },
  {
   "cell_type": "code",
   "execution_count": 11,
   "metadata": {
    "collapsed": false
   },
   "outputs": [
    {
     "data": {
      "text/plain": [
       "453.96183006267785"
      ]
     },
     "execution_count": 11,
     "metadata": {},
     "output_type": "execute_result"
    },
    {
     "data": {
      "text/plain": [
       "815.0178905885906"
      ]
     },
     "execution_count": 11,
     "metadata": {},
     "output_type": "execute_result"
    },
    {
     "data": {
      "image/png": "[encoded data removed]",
      "text/plain": [
       "<matplotlib.figure.Figure at 0x1038158d0>"
      ]
     },
     "metadata": {},
     "output_type": "display_data"
    }
   ],
   "source": [
    "strike = Exponential(lam = 1/40)**2\n",
    "X = RV(strike, min)\n",
    "Y = RV(strike, max)\n",
    "strikes = (X & Y).sim(100000)\n",
    "def valid(x):\n",
    "    return x[0] <= 120 and x[1] > 120\n",
    "fstrike = strikes.filter(valid).component(0)\n",
    "for i in range(len(fstrike)):\n",
    "    fstrike[i] += 60*7\n",
    "fstrike.hist()\n",
    "fstrike.mean()\n",
    "fstrike.var()"
   ]
  },
  {
   "cell_type": "markdown",
   "metadata": {},
   "source": [
    "c. Repeat part b but for the time until the 40th strike occurs.  What is true about this distribution that was not true in part b?"
   ]
  },
  {
   "cell_type": "code",
   "execution_count": 12,
   "metadata": {
    "collapsed": false
   },
   "outputs": [
    {
     "data": {
      "text/plain": [
       "2373.223425469429"
      ]
     },
     "execution_count": 12,
     "metadata": {},
     "output_type": "execute_result"
    },
    {
     "data": {
      "text/plain": [
       "790.47497936153673"
      ]
     },
     "execution_count": 12,
     "metadata": {},
     "output_type": "execute_result"
    },
    {
     "data": {
      "image/png": "[encoded data removed]",
      "text/plain": [
       "<matplotlib.figure.Figure at 0x10d98c0f0>"
      ]
     },
     "metadata": {},
     "output_type": "display_data"
    }
   ],
   "source": [
    "strike = Exponential(lam = 1/40)**2\n",
    "X = RV(strike, min)\n",
    "Y = RV(strike, max)\n",
    "strikes = (X & Y).sim(100000)\n",
    "def valid(x):\n",
    "    return x[0] <= 120 and x[1] > 120\n",
    "fstrike = strikes.filter(valid).component(0)\n",
    "for i in range(len(fstrike)):\n",
    "    fstrike[i] += 60*39\n",
    "fstrike.hist()\n",
    "fstrike.mean()\n",
    "fstrike.var()"
   ]
  },
  {
   "cell_type": "markdown",
   "metadata": {},
   "source": [
    "It takes an even longer time, making the mean larger with no change to the variance."
   ]
  },
  {
   "cell_type": "markdown",
   "metadata": {},
   "source": [
    "## Submission Instructions\n",
    "\n",
    "Before you submit this notebook, click the \"Kernel\" drop-down menu at the top of this page and select \"Restart & Run All\". This will ensure that all of the code in your notebook executes properly.\n",
    "\n",
    "We will re-run your notebook before grading your answers. You will lose points for a notebook with cells that do not run, even if your answers are correct, so please do not skip this step."
   ]
  }
 ],
 "metadata": {
  "anaconda-cloud": {},
  "kernelspec": {
   "display_name": "Python [conda root]",
   "language": "python",
   "name": "conda-root-py"
  },
  "language_info": {
   "codemirror_mode": {
    "name": "ipython",
    "version": 3
   },
   "file_extension": ".py",
   "mimetype": "text/x-python",
   "name": "python",
   "nbconvert_exporter": "python",
   "pygments_lexer": "ipython3",
   "version": "3.5.2"
  }
 },
 "nbformat": 4,
 "nbformat_minor": 0
}
